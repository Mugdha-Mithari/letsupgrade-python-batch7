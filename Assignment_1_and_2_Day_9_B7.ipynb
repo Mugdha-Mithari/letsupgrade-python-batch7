{
  "nbformat": 4,
  "nbformat_minor": 0,
  "metadata": {
    "colab": {
      "name": "Assignment_1_and_2_Day_9_B7.ipynb",
      "provenance": [],
      "authorship_tag": "ABX9TyOaFThXBjMvAB7No4jgdyiw",
      "include_colab_link": true
    },
    "kernelspec": {
      "name": "python3",
      "display_name": "Python 3"
    }
  },
  "cells": [
    {
      "cell_type": "markdown",
      "metadata": {
        "id": "view-in-github",
        "colab_type": "text"
      },
      "source": [
        "<a href=\"https://colab.research.google.com/github/Mugdha-Mithari/letsupgrade-python-batch7/blob/master/Assignment_1_and_2_Day_9_B7.ipynb\" target=\"_parent\"><img src=\"https://colab.research.google.com/assets/colab-badge.svg\" alt=\"Open In Colab\"/></a>"
      ]
    },
    {
      "cell_type": "code",
      "metadata": {
        "id": "tq0DVpHxfr9L",
        "colab_type": "code",
        "colab": {
          "base_uri": "https://localhost:8080/",
          "height": 34
        },
        "outputId": "f0c82fc4-d512-4cba-eaad-e15080d15bfc"
      },
      "source": [
        "#Q1.write a python function for finding it a given number prime or not\n",
        "#and do Unit testing on it using Pylint & unittest library.\n",
        "\n",
        "#Solution:\n",
        "\n",
        "%%writefile check_prime_number.py\n",
        "\n",
        "def prime_number(number):\n",
        "  if number > 1:\n",
        "    for i in range(2, number):\n",
        "      if (number % i) == 0:\n",
        "        return f\"Given {number} is not a prime number\"\n",
        "        break\n",
        "      else:\n",
        "        return f\"Given {number} is a prime number\"\n",
        "  \n",
        "  \n",
        "\n",
        "num = int(7)\n",
        "print(prime_number(num))\n",
        "\n",
        "\n",
        "\n",
        "\n",
        "import check_prime_number\n",
        "\n",
        "check_prime_number.prime_number(7)\n"
      ],
      "execution_count": 1,
      "outputs": [
        {
          "output_type": "stream",
          "text": [
            "Writing check_prime_number.py\n"
          ],
          "name": "stdout"
        }
      ]
    },
    {
      "cell_type": "code",
      "metadata": {
        "id": "pcXPO-_xgx3R",
        "colab_type": "code",
        "colab": {
          "base_uri": "https://localhost:8080/",
          "height": 34
        },
        "outputId": "4bd27f72-281f-4ab3-e8dd-1a36662fc22a"
      },
      "source": [
        "%%writefile find_prime_number.py\n",
        "\n",
        "import unittest\n",
        "import check_prime_number\n",
        "\n",
        "class test_prime_number(unittest.TestCase):\n",
        "  def test_any_number(self):\n",
        "    any_number = int(7)\n",
        "    result = check_prime_number.prime_number(any_number)\n",
        "    self.assertEquals(result, \"Given 7 is a prime number\")\n",
        "\n",
        "  def testing_number(self):\n",
        "    any_num = int(11)\n",
        "    result = check_prime_number.prime_number(any_num)\n",
        "    self.assertEquals(result, \"Given 11 is a prime number\")\n",
        "\n",
        "if __name__ == \"__main__\":\n",
        "  unittest.main()\n"
      ],
      "execution_count": 2,
      "outputs": [
        {
          "output_type": "stream",
          "text": [
            "Writing find_prime_number.py\n"
          ],
          "name": "stdout"
        }
      ]
    },
    {
      "cell_type": "code",
      "metadata": {
        "id": "-Eo1b39qg5YZ",
        "colab_type": "code",
        "colab": {
          "base_uri": "https://localhost:8080/",
          "height": 119
        },
        "outputId": "a82fa3b5-6413-4353-92e2-58af14f7b6bf"
      },
      "source": [
        "! python find_prime_number.py"
      ],
      "execution_count": 3,
      "outputs": [
        {
          "output_type": "stream",
          "text": [
            "Given 7 is a prime number\n",
            "..\n",
            "----------------------------------------------------------------------\n",
            "Ran 2 tests in 0.000s\n",
            "\n",
            "OK\n"
          ],
          "name": "stdout"
        }
      ]
    },
    {
      "cell_type": "code",
      "metadata": {
        "id": "sWKTTk6hhB5W",
        "colab_type": "code",
        "colab": {
          "base_uri": "https://localhost:8080/",
          "height": 34
        },
        "outputId": "d0bd649f-9d1e-4314-f796-247a1c04a916"
      },
      "source": [
        "#Q2.Make a small generator program for returning armstrong numbers \n",
        "#between 1-1000 in a generator object.\n",
        "\n",
        "#Solution:\n",
        "\n",
        "def armstrong_number_generator(first, last):\n",
        "  for num in range(first, last + 1):\n",
        "   order = len(str(num))\n",
        "   sum = 0\n",
        "   temp = num\n",
        "   while temp > 0:\n",
        "       digit = temp % 10\n",
        "       sum += digit ** order\n",
        "       temp //= 10\n",
        "\n",
        "   if num == sum:\n",
        "       yield (num)\n",
        "\n",
        "Number = armstrong_number_generator(1,1000)\n",
        "print(list(Number))\n"
      ],
      "execution_count": 4,
      "outputs": [
        {
          "output_type": "stream",
          "text": [
            "[1, 2, 3, 4, 5, 6, 7, 8, 9, 153, 370, 371, 407]\n"
          ],
          "name": "stdout"
        }
      ]
    }
  ]
}