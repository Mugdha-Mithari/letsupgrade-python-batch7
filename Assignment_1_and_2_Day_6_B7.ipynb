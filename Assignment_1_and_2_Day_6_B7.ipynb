{
  "nbformat": 4,
  "nbformat_minor": 0,
  "metadata": {
    "colab": {
      "name": "Assignment_1_and_2_Day_6_B7.ipynb",
      "provenance": [],
      "authorship_tag": "ABX9TyMIOPgBjDELeALKzzL9n0hE",
      "include_colab_link": true
    },
    "kernelspec": {
      "name": "python3",
      "display_name": "Python 3"
    }
  },
  "cells": [
    {
      "cell_type": "markdown",
      "metadata": {
        "id": "view-in-github",
        "colab_type": "text"
      },
      "source": [
        "<a href=\"https://colab.research.google.com/github/Mugdha-Mithari/letsupgrade-python-batch7/blob/master/Assignment_1_and_2_Day_6_B7.ipynb\" target=\"_parent\"><img src=\"https://colab.research.google.com/assets/colab-badge.svg\" alt=\"Open In Colab\"/></a>"
      ]
    },
    {
      "cell_type": "code",
      "metadata": {
        "id": "WWRP0kyq5bvy",
        "colab_type": "code",
        "colab": {
          "base_uri": "https://localhost:8080/",
          "height": 221
        },
        "outputId": "35641777-f4a5-4791-8507-8cddc5782e29"
      },
      "source": [
        "#Q1:For this challenge,create a bank account class that has two attributes:\n",
        "#Owner_name\n",
        "#balance\n",
        "#and two methods\n",
        "#deposit\n",
        "#withdraw\n",
        "#As an added reqirment,withdrawals may not exceedd the available balance\n",
        "#Instantiate your class,make several deposites and withdrawls and test to make sure the account \n",
        "#can't be overdrawn.\n",
        "\n",
        "#solution:\n",
        "\n",
        "class Bank_Account:\n",
        "    def __init__(self,Owner_name):\n",
        "        self.balance=0\n",
        "        self.Owner_name = Owner_name\n",
        "        print(f\"Hello!!! {self.Owner_name} Welcome to the deposit & Withdrawl Machine\")\n",
        "\n",
        "    def deposit(self):\n",
        "        amount=float(input(\"Enter amount to be Deposited:\"))\n",
        "        self.balance+=amount\n",
        "        print(\"\\n Amount Deposited:\",amount)\n",
        "\n",
        "    def withdraw(self):\n",
        "        amount=float(input(\"Enter amount to be Withdrawn:\"))\n",
        "        if self.balance>=amount:\n",
        "            self.balance-=amount\n",
        "            print(\"\\n Withdraw amount:\",amount)\n",
        "        else:\n",
        "               print(\"\\n Insufficient balance\")\n",
        "\n",
        "    def display(self):\n",
        "        print(\"\\n Net Available Balance=\",self.balance)\n",
        "\n",
        "#creating an object of class\n",
        "s=Bank_Account(input('Enter Your Name:-'))\n",
        "\n",
        "#calling functions with that class object\n",
        "s.deposit()\n",
        "s.withdraw()\n",
        "s.display()\n",
        "\n",
        "\n",
        "#Q2.For this challenge,create a cone class that has two attributes:\n",
        "#R=radious\n",
        "#h=height\n",
        "#and two method\n",
        "#volume = pi * r * r *(h/3)\n",
        "#surface area: base : pi * r * r,side: pi * r *(r**2+h**2)/2\n",
        "#Make only one class with functions as in where required import maths\n",
        "\n",
        "#solution\n",
        "#Importing math library for volume of PI\n",
        "import math \n",
        "pi = math.pi \n",
        "  \n",
        "class Cone:\n",
        "    def __init__(self, r, h):\n",
        "       self.r = r\n",
        "       self.h = h\n",
        "       \n",
        "\n",
        "# Function to calculate Volume of Cone     \n",
        "    def volume(self): \n",
        "        return (1 / 3) * pi * self.r**2  * self.h\n",
        "\n",
        "# Function To Calculate Surface Area of Cone \n",
        "    def surfacearea(self): \n",
        "        base = (pi * self.r **2)\n",
        "        side = (pi * self.r * math.sqrt((self.r**2) + (self.h**2)))\n",
        "        return (pi * self.r **2) + (pi * self.r * math.sqrt((self.r**2) + (self.h**2)))\n",
        " \n",
        "calc_volume = Cone(5,12)\n",
        "print(f\"Volume Of Cone : {calc_volume.volume()}\")\n",
        "\n",
        "calc_surface = Cone(5,12)\n",
        "print(f\"Surface Area Of Cone : {calc_surface.surfacearea()}\")"
      ],
      "execution_count": 1,
      "outputs": [
        {
          "output_type": "stream",
          "text": [
            "Enter Your Name:-Mugdha Kumar Mithari\n",
            "Hello!!! Mugdha Kumar Mithari Welcome to the deposit & Withdrawl Machine\n",
            "Enter amount to be Deposited:1000\n",
            "\n",
            " Amount Deposited: 1000.0\n",
            "Enter amount to be Withdrawn:500\n",
            "\n",
            " Withdraw amount: 500.0\n",
            "\n",
            " Net Available Balance= 500.0\n",
            "Volume Of Cone : 314.15926535897927\n",
            "Surface Area Of Cone : 282.7433388230814\n"
          ],
          "name": "stdout"
        }
      ]
    }
  ]
}