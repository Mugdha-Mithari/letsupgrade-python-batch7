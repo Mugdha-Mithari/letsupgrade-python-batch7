{
  "nbformat": 4,
  "nbformat_minor": 0,
  "metadata": {
    "colab": {
      "name": "Assignment_1_and_2_Day8_B7.ipynb",
      "provenance": [],
      "collapsed_sections": [],
      "authorship_tag": "ABX9TyOQkR4C6vQ+phUG0dtEesNE",
      "include_colab_link": true
    },
    "kernelspec": {
      "name": "python3",
      "display_name": "Python 3"
    }
  },
  "cells": [
    {
      "cell_type": "markdown",
      "metadata": {
        "id": "view-in-github",
        "colab_type": "text"
      },
      "source": [
        "<a href=\"https://colab.research.google.com/github/Mugdha-Mithari/letsupgrade-python-batch7/blob/master/Assignment_1_and_2_Day8_B7.ipynb\" target=\"_parent\"><img src=\"https://colab.research.google.com/assets/colab-badge.svg\" alt=\"Open In Colab\"/></a>"
      ]
    },
    {
      "cell_type": "code",
      "metadata": {
        "id": "kb6aiTnA-SUH",
        "colab_type": "code",
        "colab": {
          "base_uri": "https://localhost:8080/",
          "height": 85
        },
        "outputId": "33f4cc31-c125-4241-b6a4-d63f23e350f3"
      },
      "source": [
        "#Q1.Write a decorator function for yur taking \n",
        "# input for you any kind of function you want to build,\n",
        "#for example-You make a fibonacci series function,in which\n",
        "#your input range is been defined by the decorator program input.\n",
        "\n",
        "#solution:\n",
        "def decorator_function(any_function):\n",
        "  def wrapper_function(*args):\n",
        "    print(\"Fibonacci Series for the given input\")\n",
        "    return any_function(*args)\n",
        "  return wrapper_function\n",
        "\n",
        "\n",
        "@decorator_function\n",
        "def fibonacci_sqe(n):\n",
        "    a = 0 # First number\n",
        "    b = 1 # Second number\n",
        "    if n == 1:\n",
        "        print(a)\n",
        "    elif n == 2:\n",
        "        print(a,b)\n",
        "    else:\n",
        "        print(a,b, end=\" \")\n",
        "        for i in range(n-2):\n",
        "            c = a + b\n",
        "            a = b\n",
        "            b = c\n",
        "            print(b, end=\" \")\n",
        "\n",
        "x = int(input(\"Enter number: \")) \n",
        "print(fibonacci_sqe(x))\n",
        "\n",
        "\n",
        "\n",
        "\n",
        "\n",
        "\n",
        "#Q2.For this challenge you to devlop a python program to open\n",
        "#a file in read only mode and try writing somthing to it and \n",
        "# handle the subsequent errors using Exception handling.\n",
        "\n",
        "#Solution:\n",
        "try:\n",
        "    file=open(\"MD.txt\",\"r\")\n",
        "    file.write(\"This is my test file for exception handling!!!\")\n",
        "except IOError:\n",
        "    print(\"can't find file or write data\")\n",
        "else:\n",
        "    print(\"The file have been suceesfully read\")\n",
        "    file.close()\n"
      ],
      "execution_count": 2,
      "outputs": [
        {
          "output_type": "stream",
          "text": [
            "Enter number: 14\n",
            "Fibonacci Series for the given input\n",
            "0 1 1 2 3 5 8 13 21 34 55 89 144 233 None\n",
            "can't find file or write data\n"
          ],
          "name": "stdout"
        }
      ]
    }
  ]
}